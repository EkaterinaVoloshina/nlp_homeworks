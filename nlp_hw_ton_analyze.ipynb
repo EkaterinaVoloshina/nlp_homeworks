{
 "cells": [
  {
   "cell_type": "markdown",
   "metadata": {},
   "source": [
    "## Домашная работа №1. \n",
    "\n",
    "*Екатерина Волошина*"
   ]
  },
  {
   "cell_type": "code",
   "execution_count": 18,
   "metadata": {
    "id": "6QWbatHHXa3A"
   },
   "outputs": [],
   "source": [
    "import requests\n",
    "from bs4 import BeautifulSoup\n",
    "from tqdm.auto import tqdm\n",
    "import random\n",
    "import time\n",
    "from collections import Counter\n",
    "from sklearn.model_selection import train_test_split"
   ]
  },
  {
   "cell_type": "code",
   "execution_count": 2,
   "metadata": {
    "id": "DIDFxzoLYJan"
   },
   "outputs": [],
   "source": [
    "from fake_useragent import UserAgent\n",
    "ua = UserAgent(verify_ssl=False)"
   ]
  },
  {
   "cell_type": "code",
   "execution_count": 3,
   "metadata": {
    "id": "oBB9ONOihLnX"
   },
   "outputs": [],
   "source": [
    "from nltk.tokenize import WordPunctTokenizer\n",
    "from pymorphy2 import MorphAnalyzer\n",
    "\n",
    "WPT = WordPunctTokenizer()\n",
    "morph_parse = MorphAnalyzer()"
   ]
  },
  {
   "cell_type": "code",
   "execution_count": 4,
   "metadata": {
    "id": "XTwBUIdHYpVw"
   },
   "outputs": [],
   "source": [
    "session = requests.session()"
   ]
  },
  {
   "cell_type": "markdown",
   "metadata": {},
   "source": [
    "Функция находит ссылки на фильмы на странице Афиши:"
   ]
  },
  {
   "cell_type": "code",
   "execution_count": 5,
   "metadata": {
    "id": "2R1bC_Oid7v_"
   },
   "outputs": [],
   "source": [
    "def find_movies():\n",
    "    url = 'https://www.afisha.ru/msk/schedule_cinema/vybor-afishi/'\n",
    "    req = session.get(url, headers={'User-Agent':ua.random})\n",
    "    page = req.text\n",
    "    soup = BeautifulSoup(page, 'html.parser')\n",
    "    lists = soup.find_all('h3', {'class':'heHLK'})\n",
    "    movies = []\n",
    "    for i in lists:\n",
    "        movie = i.find('a')['href']\n",
    "        movies.append(movie)\n",
    "    return movies"
   ]
  },
  {
   "cell_type": "markdown",
   "metadata": {},
   "source": [
    "Функция достает позитивные отзывы про один фильм:"
   ]
  },
  {
   "cell_type": "code",
   "execution_count": 6,
   "metadata": {
    "id": "gkIoRlOWYuec"
   },
   "outputs": [],
   "source": [
    "def download_positive_reviews(page):\n",
    "    url = f'https://afisha.ru{page}reviews/positive'\n",
    "    for _ in range(5):\n",
    "        response = session.get(url)\n",
    "        time.sleep(random.uniform(1.1, 5.2))\n",
    "\n",
    "    page = response.text\n",
    "    soup = BeautifulSoup(page, 'html.parser')\n",
    "    reviews = soup.find_all('div', class_ ='restrict-text review__text')\n",
    "    posts = [post.text for post in reviews]\n",
    "    return posts"
   ]
  },
  {
   "cell_type": "markdown",
   "metadata": {},
   "source": [
    "Функция достает отрицательные отзывы про один фильм:"
   ]
  },
  {
   "cell_type": "code",
   "execution_count": 7,
   "metadata": {
    "id": "gPoCGlhOuLEY"
   },
   "outputs": [],
   "source": [
    "def download_negative_reviews(page):\n",
    "    url = f'https://afisha.ru{page}reviews/negative'\n",
    "    for _ in range(5):\n",
    "        response = session.get(url)\n",
    "        time.sleep(random.uniform(1.1, 5.2))\n",
    "    page = response.text\n",
    "    soup = BeautifulSoup(page, 'html.parser')\n",
    "    reviews = soup.find_all('div', class_ ='restrict-text review__text')\n",
    "    posts = [post.text for post in reviews]\n",
    "    return posts "
   ]
  },
  {
   "cell_type": "markdown",
   "metadata": {},
   "source": [
    "Функция разбивает выборку на тренировочную и тестовую и создает словарь с правильными ответами для тестовой выборки:"
   ]
  },
  {
   "cell_type": "code",
   "execution_count": 20,
   "metadata": {
    "id": "w9B52ZXD11xQ"
   },
   "outputs": [],
   "source": [
    "def reviews_split(pos, neg):\n",
    "    pos_train, pos_test = train_test_split(pos)\n",
    "    neg_train, neg_test = train_test_split(neg)\n",
    "    test = {}\n",
    "    for i in pos_test:\n",
    "        test[i] = 1\n",
    "    for i in neg_test:\n",
    "        test[i] = 0\n",
    "    return pos_train, neg_train, test"
   ]
  },
  {
   "cell_type": "markdown",
   "metadata": {},
   "source": [
    "Функция создает множество слов, встречающихся только в положительных и только в отрицательных отзывах:"
   ]
  },
  {
   "cell_type": "code",
   "execution_count": 23,
   "metadata": {
    "id": "xVisMyUszu83"
   },
   "outputs": [],
   "source": [
    "def analyze_reviews(pos, neg, freq):\n",
    "    positive = []\n",
    "    negative = []\n",
    "    for i in pos:\n",
    "        positive.extend(text_from_the_post(i))\n",
    "    for i in neg:\n",
    "        negative.extend(text_from_the_post(i))\n",
    "    pos_words = Counter(positive)\n",
    "    neg_words = Counter(negative) \n",
    "    positive = set(positive)\n",
    "    negative = set(negative)\n",
    "    common_words = positive.intersection(negative)\n",
    "    positive -= common_words\n",
    "    negative -= common_words\n",
    "    positive = [i for i in positive if pos_words[i] > freq]\n",
    "    negative = [i for i in negative if neg_words[i] > freq]\n",
    "    return positive, negative"
   ]
  },
  {
   "cell_type": "markdown",
   "metadata": {},
   "source": [
    "Функция лемматизирует текст:"
   ]
  },
  {
   "cell_type": "code",
   "execution_count": 10,
   "metadata": {
    "id": "AL4PNvp5gs4H"
   },
   "outputs": [],
   "source": [
    "def text_from_the_post(post):\n",
    "    post = post[1:] # первый символ строки - оценка в десятибалльной системе\n",
    "    text = WPT.tokenize(post.lower())\n",
    "    words = [morph_parse.parse(i)[0].normal_form for i in text if i.isalpha()]\n",
    "    return words"
   ]
  },
  {
   "cell_type": "markdown",
   "metadata": {},
   "source": [
    "Функция определяет тональность в зависимости от того, каких слов в отзыве больше - слов, которые встречаются только в положительных или только в отрицательных отзывах. Нейтральные (если одинаковое количество положительных и отрицательных слов) отзывы будем трактовать как отрицательные"
   ]
  },
  {
   "cell_type": "code",
   "execution_count": 15,
   "metadata": {
    "id": "H22bSOmx4il3"
   },
   "outputs": [],
   "source": [
    "def tonality(post, pos, neg):\n",
    "    text = text_from_the_post(post)\n",
    "    pos_count = 0\n",
    "    neg_count = 0\n",
    "    mark = 0\n",
    "    for i in text:\n",
    "        if i in pos:\n",
    "            pos_count += 1\n",
    "    if pos_count > neg_count:\n",
    "          mark = 1\n",
    "    elif neg_count > pos_count:\n",
    "          mark = 0\n",
    "    return mark"
   ]
  },
  {
   "cell_type": "markdown",
   "metadata": {},
   "source": [
    "Находим фильмы:"
   ]
  },
  {
   "cell_type": "code",
   "execution_count": 12,
   "metadata": {
    "id": "R6wxFSjBvOed"
   },
   "outputs": [],
   "source": [
    "movies = find_movies()"
   ]
  },
  {
   "cell_type": "markdown",
   "metadata": {},
   "source": [
    "Скачиваем отзывы:"
   ]
  },
  {
   "cell_type": "code",
   "execution_count": 13,
   "metadata": {
    "colab": {
     "base_uri": "https://localhost:8080/",
     "height": 66,
     "referenced_widgets": [
      "1abe52b7ecdb4c718fcb1252550ae807",
      "91e48c35bcc9466fb7e89a66648073c6",
      "c72353b0a8904620814e53cbe4f29e9d",
      "0d3ead1632d7488394700d6588f7abb0",
      "8ad16dd25e01486fb367a0641fbf7f2f",
      "5421e51525754106a202b1e1b0a9ea85",
      "2e21e1b6a833470eaa6363575896bf28",
      "31837342bab142628f66097fd9490694"
     ]
    },
    "id": "GqAPMpvygmXP",
    "outputId": "73c99192-cef5-4fa8-c638-d7f4b4f235ab"
   },
   "outputs": [
    {
     "data": {
      "application/vnd.jupyter.widget-view+json": {
       "model_id": "7dca7481bd2541f1bff3d9a65aafe9a4",
       "version_major": 2,
       "version_minor": 0
      },
      "text/plain": [
       "HBox(children=(IntProgress(value=0, max=16), HTML(value='')))"
      ]
     },
     "metadata": {},
     "output_type": "display_data"
    },
    {
     "name": "stdout",
     "output_type": "stream",
     "text": [
      "\n"
     ]
    }
   ],
   "source": [
    "p_words = []\n",
    "n_words = []\n",
    "for page in tqdm(movies):\n",
    "    positive_words = download_positive_reviews(page)\n",
    "    negative_words = download_negative_reviews(page)\n",
    "    p_words.extend(positive_words)\n",
    "    n_words.extend(negative_words)"
   ]
  },
  {
   "cell_type": "markdown",
   "metadata": {},
   "source": [
    "Разделяем выборку:"
   ]
  },
  {
   "cell_type": "code",
   "execution_count": 21,
   "metadata": {
    "id": "BjSuU1N_ztzi"
   },
   "outputs": [],
   "source": [
    "p_train, n_train, test = reviews_split(p_words, n_words)"
   ]
  },
  {
   "cell_type": "markdown",
   "metadata": {},
   "source": [
    "Создаем множества слов, которые встречаются только в положительных и только в отрицательных отзывах:"
   ]
  },
  {
   "cell_type": "code",
   "execution_count": 34,
   "metadata": {
    "id": "0UTEViyO3lbW"
   },
   "outputs": [],
   "source": [
    "pos_words, neg_words = analyze_reviews(p_train, n_train, 5)"
   ]
  },
  {
   "cell_type": "markdown",
   "metadata": {},
   "source": [
    "Определяем тональность на тестовой выборке и считаем accuracy: "
   ]
  },
  {
   "cell_type": "code",
   "execution_count": null,
   "metadata": {
    "id": "126kAdI44XUZ"
   },
   "outputs": [],
   "source": [
    "accuracy = 0\n",
    "for k, v in test.items():\n",
    "    mark = tonality(k, pos_words, neg_words)\n",
    "    if mark == v:\n",
    "        accuracy += 1\n",
    "accuracy = accuracy/len(test)"
   ]
  },
  {
   "cell_type": "markdown",
   "metadata": {},
   "source": [
    "Смотрим, какая выходит accuracy:"
   ]
  },
  {
   "cell_type": "code",
   "execution_count": 36,
   "metadata": {
    "colab": {
     "base_uri": "https://localhost:8080/",
     "height": 34
    },
    "id": "-FbqspoI7Mpv",
    "outputId": "9ea74c5d-56cc-4f17-e176-e1471caa3290"
   },
   "outputs": [
    {
     "data": {
      "text/plain": [
       "0.5769230769230769"
      ]
     },
     "execution_count": 36,
     "metadata": {},
     "output_type": "execute_result"
    }
   ],
   "source": [
    "accuracy"
   ]
  },
  {
   "cell_type": "markdown",
   "metadata": {
    "id": "wqoAw-YF7PUP"
   },
   "source": [
    "#### Возможные улучшения:\n",
    "\n",
    "1. Использовать tf-idf, чтобы оценить важность слов для определения отзыва, и обучить логистическую регрессию\n",
    "2. Смотреть на н-граммы, а не просто слова (учитывать более широкий контекст)\n",
    "3. Значительно увеличить выборку\n",
    "4. Использовать другие лемматизаторы"
   ]
  },
  {
   "cell_type": "code",
   "execution_count": null,
   "metadata": {},
   "outputs": [],
   "source": []
  }
 ],
 "metadata": {
  "colab": {
   "name": "ton_analyze.ipynb",
   "provenance": []
  },
  "kernelspec": {
   "display_name": "Python 3",
   "language": "python",
   "name": "python3"
  },
  "language_info": {
   "codemirror_mode": {
    "name": "ipython",
    "version": 3
   },
   "file_extension": ".py",
   "mimetype": "text/x-python",
   "name": "python",
   "nbconvert_exporter": "python",
   "pygments_lexer": "ipython3",
   "version": "3.7.3"
  },
  "widgets": {
   "application/vnd.jupyter.widget-state+json": {
    "0d3ead1632d7488394700d6588f7abb0": {
     "model_module": "@jupyter-widgets/controls",
     "model_name": "HTMLModel",
     "state": {
      "_dom_classes": [],
      "_model_module": "@jupyter-widgets/controls",
      "_model_module_version": "1.5.0",
      "_model_name": "HTMLModel",
      "_view_count": null,
      "_view_module": "@jupyter-widgets/controls",
      "_view_module_version": "1.5.0",
      "_view_name": "HTMLView",
      "description": "",
      "description_tooltip": null,
      "layout": "IPY_MODEL_31837342bab142628f66097fd9490694",
      "placeholder": "​",
      "style": "IPY_MODEL_2e21e1b6a833470eaa6363575896bf28",
      "value": " 20/20 [15:20&lt;00:00, 46.02s/it]"
     }
    },
    "1abe52b7ecdb4c718fcb1252550ae807": {
     "model_module": "@jupyter-widgets/controls",
     "model_name": "HBoxModel",
     "state": {
      "_dom_classes": [],
      "_model_module": "@jupyter-widgets/controls",
      "_model_module_version": "1.5.0",
      "_model_name": "HBoxModel",
      "_view_count": null,
      "_view_module": "@jupyter-widgets/controls",
      "_view_module_version": "1.5.0",
      "_view_name": "HBoxView",
      "box_style": "",
      "children": [
       "IPY_MODEL_c72353b0a8904620814e53cbe4f29e9d",
       "IPY_MODEL_0d3ead1632d7488394700d6588f7abb0"
      ],
      "layout": "IPY_MODEL_91e48c35bcc9466fb7e89a66648073c6"
     }
    },
    "2e21e1b6a833470eaa6363575896bf28": {
     "model_module": "@jupyter-widgets/controls",
     "model_name": "DescriptionStyleModel",
     "state": {
      "_model_module": "@jupyter-widgets/controls",
      "_model_module_version": "1.5.0",
      "_model_name": "DescriptionStyleModel",
      "_view_count": null,
      "_view_module": "@jupyter-widgets/base",
      "_view_module_version": "1.2.0",
      "_view_name": "StyleView",
      "description_width": ""
     }
    },
    "31837342bab142628f66097fd9490694": {
     "model_module": "@jupyter-widgets/base",
     "model_name": "LayoutModel",
     "state": {
      "_model_module": "@jupyter-widgets/base",
      "_model_module_version": "1.2.0",
      "_model_name": "LayoutModel",
      "_view_count": null,
      "_view_module": "@jupyter-widgets/base",
      "_view_module_version": "1.2.0",
      "_view_name": "LayoutView",
      "align_content": null,
      "align_items": null,
      "align_self": null,
      "border": null,
      "bottom": null,
      "display": null,
      "flex": null,
      "flex_flow": null,
      "grid_area": null,
      "grid_auto_columns": null,
      "grid_auto_flow": null,
      "grid_auto_rows": null,
      "grid_column": null,
      "grid_gap": null,
      "grid_row": null,
      "grid_template_areas": null,
      "grid_template_columns": null,
      "grid_template_rows": null,
      "height": null,
      "justify_content": null,
      "justify_items": null,
      "left": null,
      "margin": null,
      "max_height": null,
      "max_width": null,
      "min_height": null,
      "min_width": null,
      "object_fit": null,
      "object_position": null,
      "order": null,
      "overflow": null,
      "overflow_x": null,
      "overflow_y": null,
      "padding": null,
      "right": null,
      "top": null,
      "visibility": null,
      "width": null
     }
    },
    "5421e51525754106a202b1e1b0a9ea85": {
     "model_module": "@jupyter-widgets/base",
     "model_name": "LayoutModel",
     "state": {
      "_model_module": "@jupyter-widgets/base",
      "_model_module_version": "1.2.0",
      "_model_name": "LayoutModel",
      "_view_count": null,
      "_view_module": "@jupyter-widgets/base",
      "_view_module_version": "1.2.0",
      "_view_name": "LayoutView",
      "align_content": null,
      "align_items": null,
      "align_self": null,
      "border": null,
      "bottom": null,
      "display": null,
      "flex": null,
      "flex_flow": null,
      "grid_area": null,
      "grid_auto_columns": null,
      "grid_auto_flow": null,
      "grid_auto_rows": null,
      "grid_column": null,
      "grid_gap": null,
      "grid_row": null,
      "grid_template_areas": null,
      "grid_template_columns": null,
      "grid_template_rows": null,
      "height": null,
      "justify_content": null,
      "justify_items": null,
      "left": null,
      "margin": null,
      "max_height": null,
      "max_width": null,
      "min_height": null,
      "min_width": null,
      "object_fit": null,
      "object_position": null,
      "order": null,
      "overflow": null,
      "overflow_x": null,
      "overflow_y": null,
      "padding": null,
      "right": null,
      "top": null,
      "visibility": null,
      "width": null
     }
    },
    "8ad16dd25e01486fb367a0641fbf7f2f": {
     "model_module": "@jupyter-widgets/controls",
     "model_name": "ProgressStyleModel",
     "state": {
      "_model_module": "@jupyter-widgets/controls",
      "_model_module_version": "1.5.0",
      "_model_name": "ProgressStyleModel",
      "_view_count": null,
      "_view_module": "@jupyter-widgets/base",
      "_view_module_version": "1.2.0",
      "_view_name": "StyleView",
      "bar_color": null,
      "description_width": "initial"
     }
    },
    "91e48c35bcc9466fb7e89a66648073c6": {
     "model_module": "@jupyter-widgets/base",
     "model_name": "LayoutModel",
     "state": {
      "_model_module": "@jupyter-widgets/base",
      "_model_module_version": "1.2.0",
      "_model_name": "LayoutModel",
      "_view_count": null,
      "_view_module": "@jupyter-widgets/base",
      "_view_module_version": "1.2.0",
      "_view_name": "LayoutView",
      "align_content": null,
      "align_items": null,
      "align_self": null,
      "border": null,
      "bottom": null,
      "display": null,
      "flex": null,
      "flex_flow": null,
      "grid_area": null,
      "grid_auto_columns": null,
      "grid_auto_flow": null,
      "grid_auto_rows": null,
      "grid_column": null,
      "grid_gap": null,
      "grid_row": null,
      "grid_template_areas": null,
      "grid_template_columns": null,
      "grid_template_rows": null,
      "height": null,
      "justify_content": null,
      "justify_items": null,
      "left": null,
      "margin": null,
      "max_height": null,
      "max_width": null,
      "min_height": null,
      "min_width": null,
      "object_fit": null,
      "object_position": null,
      "order": null,
      "overflow": null,
      "overflow_x": null,
      "overflow_y": null,
      "padding": null,
      "right": null,
      "top": null,
      "visibility": null,
      "width": null
     }
    },
    "c72353b0a8904620814e53cbe4f29e9d": {
     "model_module": "@jupyter-widgets/controls",
     "model_name": "FloatProgressModel",
     "state": {
      "_dom_classes": [],
      "_model_module": "@jupyter-widgets/controls",
      "_model_module_version": "1.5.0",
      "_model_name": "FloatProgressModel",
      "_view_count": null,
      "_view_module": "@jupyter-widgets/controls",
      "_view_module_version": "1.5.0",
      "_view_name": "ProgressView",
      "bar_style": "success",
      "description": "100%",
      "description_tooltip": null,
      "layout": "IPY_MODEL_5421e51525754106a202b1e1b0a9ea85",
      "max": 20,
      "min": 0,
      "orientation": "horizontal",
      "style": "IPY_MODEL_8ad16dd25e01486fb367a0641fbf7f2f",
      "value": 20
     }
    }
   }
  }
 },
 "nbformat": 4,
 "nbformat_minor": 1
}

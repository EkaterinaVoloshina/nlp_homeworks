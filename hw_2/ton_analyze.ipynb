{
  "nbformat": 4,
  "nbformat_minor": 0,
  "metadata": {
    "colab": {
      "name": "ton_analyze.ipynb",
      "provenance": []
    },
    "kernelspec": {
      "name": "python3",
      "display_name": "Python 3"
    },
    "widgets": {
      "application/vnd.jupyter.widget-state+json": {
        "ca2c8d186fbf497984af3eb21ff757d1": {
          "model_module": "@jupyter-widgets/controls",
          "model_name": "HBoxModel",
          "state": {
            "_view_name": "HBoxView",
            "_dom_classes": [],
            "_model_name": "HBoxModel",
            "_view_module": "@jupyter-widgets/controls",
            "_model_module_version": "1.5.0",
            "_view_count": null,
            "_view_module_version": "1.5.0",
            "box_style": "",
            "layout": "IPY_MODEL_e5dbbfd0d2174919a2b6c1f65c58b901",
            "_model_module": "@jupyter-widgets/controls",
            "children": [
              "IPY_MODEL_65a205c440ea46019303b0a5f24e9625",
              "IPY_MODEL_c51d01590cb847f5bde70609678fb831"
            ]
          }
        },
        "e5dbbfd0d2174919a2b6c1f65c58b901": {
          "model_module": "@jupyter-widgets/base",
          "model_name": "LayoutModel",
          "state": {
            "_view_name": "LayoutView",
            "grid_template_rows": null,
            "right": null,
            "justify_content": null,
            "_view_module": "@jupyter-widgets/base",
            "overflow": null,
            "_model_module_version": "1.2.0",
            "_view_count": null,
            "flex_flow": null,
            "width": null,
            "min_width": null,
            "border": null,
            "align_items": null,
            "bottom": null,
            "_model_module": "@jupyter-widgets/base",
            "top": null,
            "grid_column": null,
            "overflow_y": null,
            "overflow_x": null,
            "grid_auto_flow": null,
            "grid_area": null,
            "grid_template_columns": null,
            "flex": null,
            "_model_name": "LayoutModel",
            "justify_items": null,
            "grid_row": null,
            "max_height": null,
            "align_content": null,
            "visibility": null,
            "align_self": null,
            "height": null,
            "min_height": null,
            "padding": null,
            "grid_auto_rows": null,
            "grid_gap": null,
            "max_width": null,
            "order": null,
            "_view_module_version": "1.2.0",
            "grid_template_areas": null,
            "object_position": null,
            "object_fit": null,
            "grid_auto_columns": null,
            "margin": null,
            "display": null,
            "left": null
          }
        },
        "65a205c440ea46019303b0a5f24e9625": {
          "model_module": "@jupyter-widgets/controls",
          "model_name": "FloatProgressModel",
          "state": {
            "_view_name": "ProgressView",
            "style": "IPY_MODEL_ee16981e71574119bb086147c16aeed9",
            "_dom_classes": [],
            "description": "100%",
            "_model_name": "FloatProgressModel",
            "bar_style": "success",
            "max": 21,
            "_view_module": "@jupyter-widgets/controls",
            "_model_module_version": "1.5.0",
            "value": 21,
            "_view_count": null,
            "_view_module_version": "1.5.0",
            "orientation": "horizontal",
            "min": 0,
            "description_tooltip": null,
            "_model_module": "@jupyter-widgets/controls",
            "layout": "IPY_MODEL_77b7177851c5455d99aa84a66a6a6faf"
          }
        },
        "c51d01590cb847f5bde70609678fb831": {
          "model_module": "@jupyter-widgets/controls",
          "model_name": "HTMLModel",
          "state": {
            "_view_name": "HTMLView",
            "style": "IPY_MODEL_bae4c2ac887847c5b6274189fc962579",
            "_dom_classes": [],
            "description": "",
            "_model_name": "HTMLModel",
            "placeholder": "​",
            "_view_module": "@jupyter-widgets/controls",
            "_model_module_version": "1.5.0",
            "value": " 21/21 [16:38&lt;00:00, 47.57s/it]",
            "_view_count": null,
            "_view_module_version": "1.5.0",
            "description_tooltip": null,
            "_model_module": "@jupyter-widgets/controls",
            "layout": "IPY_MODEL_ba946483502b464b93789f3241db2f16"
          }
        },
        "ee16981e71574119bb086147c16aeed9": {
          "model_module": "@jupyter-widgets/controls",
          "model_name": "ProgressStyleModel",
          "state": {
            "_view_name": "StyleView",
            "_model_name": "ProgressStyleModel",
            "description_width": "initial",
            "_view_module": "@jupyter-widgets/base",
            "_model_module_version": "1.5.0",
            "_view_count": null,
            "_view_module_version": "1.2.0",
            "bar_color": null,
            "_model_module": "@jupyter-widgets/controls"
          }
        },
        "77b7177851c5455d99aa84a66a6a6faf": {
          "model_module": "@jupyter-widgets/base",
          "model_name": "LayoutModel",
          "state": {
            "_view_name": "LayoutView",
            "grid_template_rows": null,
            "right": null,
            "justify_content": null,
            "_view_module": "@jupyter-widgets/base",
            "overflow": null,
            "_model_module_version": "1.2.0",
            "_view_count": null,
            "flex_flow": null,
            "width": null,
            "min_width": null,
            "border": null,
            "align_items": null,
            "bottom": null,
            "_model_module": "@jupyter-widgets/base",
            "top": null,
            "grid_column": null,
            "overflow_y": null,
            "overflow_x": null,
            "grid_auto_flow": null,
            "grid_area": null,
            "grid_template_columns": null,
            "flex": null,
            "_model_name": "LayoutModel",
            "justify_items": null,
            "grid_row": null,
            "max_height": null,
            "align_content": null,
            "visibility": null,
            "align_self": null,
            "height": null,
            "min_height": null,
            "padding": null,
            "grid_auto_rows": null,
            "grid_gap": null,
            "max_width": null,
            "order": null,
            "_view_module_version": "1.2.0",
            "grid_template_areas": null,
            "object_position": null,
            "object_fit": null,
            "grid_auto_columns": null,
            "margin": null,
            "display": null,
            "left": null
          }
        },
        "bae4c2ac887847c5b6274189fc962579": {
          "model_module": "@jupyter-widgets/controls",
          "model_name": "DescriptionStyleModel",
          "state": {
            "_view_name": "StyleView",
            "_model_name": "DescriptionStyleModel",
            "description_width": "",
            "_view_module": "@jupyter-widgets/base",
            "_model_module_version": "1.5.0",
            "_view_count": null,
            "_view_module_version": "1.2.0",
            "_model_module": "@jupyter-widgets/controls"
          }
        },
        "ba946483502b464b93789f3241db2f16": {
          "model_module": "@jupyter-widgets/base",
          "model_name": "LayoutModel",
          "state": {
            "_view_name": "LayoutView",
            "grid_template_rows": null,
            "right": null,
            "justify_content": null,
            "_view_module": "@jupyter-widgets/base",
            "overflow": null,
            "_model_module_version": "1.2.0",
            "_view_count": null,
            "flex_flow": null,
            "width": null,
            "min_width": null,
            "border": null,
            "align_items": null,
            "bottom": null,
            "_model_module": "@jupyter-widgets/base",
            "top": null,
            "grid_column": null,
            "overflow_y": null,
            "overflow_x": null,
            "grid_auto_flow": null,
            "grid_area": null,
            "grid_template_columns": null,
            "flex": null,
            "_model_name": "LayoutModel",
            "justify_items": null,
            "grid_row": null,
            "max_height": null,
            "align_content": null,
            "visibility": null,
            "align_self": null,
            "height": null,
            "min_height": null,
            "padding": null,
            "grid_auto_rows": null,
            "grid_gap": null,
            "max_width": null,
            "order": null,
            "_view_module_version": "1.2.0",
            "grid_template_areas": null,
            "object_position": null,
            "object_fit": null,
            "grid_auto_columns": null,
            "margin": null,
            "display": null,
            "left": null
          }
        }
      }
    }
  },
  "cells": [
    {
      "cell_type": "markdown",
      "metadata": {
        "id": "TthCPK78PsL5"
      },
      "source": [
        "## Доработанная первая домашняя работа для второй домашней работы :)\n",
        "\n",
        "_Екатерина Волошина_"
      ]
    },
    {
      "cell_type": "code",
      "metadata": {
        "id": "6QWbatHHXa3A"
      },
      "source": [
        "import requests\n",
        "from bs4 import BeautifulSoup\n",
        "from tqdm.auto import tqdm\n",
        "import random\n",
        "import time\n",
        "from collections import Counter\n",
        "from sklearn.model_selection import train_test_split"
      ],
      "execution_count": 158,
      "outputs": []
    },
    {
      "cell_type": "code",
      "metadata": {
        "id": "GcTvRL2_3_ES"
      },
      "source": [
        "from natasha import (\n",
        "    Segmenter,\n",
        "    MorphVocab,\n",
        "    \n",
        "    NewsEmbedding,\n",
        "    NewsMorphTagger,\n",
        "    NewsSyntaxParser,\n",
        "    NewsNERTagger,\n",
        "    \n",
        "    PER,\n",
        "    NamesExtractor,\n",
        "\n",
        "    Doc\n",
        ")"
      ],
      "execution_count": 117,
      "outputs": []
    },
    {
      "cell_type": "code",
      "metadata": {
        "id": "DIDFxzoLYJan"
      },
      "source": [
        "from fake_useragent import UserAgent\n",
        "ua = UserAgent(verify_ssl=False)"
      ],
      "execution_count": 118,
      "outputs": []
    },
    {
      "cell_type": "code",
      "metadata": {
        "id": "oBB9ONOihLnX"
      },
      "source": [
        "from nltk.tokenize import WordPunctTokenizer\n",
        "\n",
        "WPT = WordPunctTokenizer()"
      ],
      "execution_count": 119,
      "outputs": []
    },
    {
      "cell_type": "code",
      "metadata": {
        "id": "UC5aSs0o4Zdf"
      },
      "source": [
        "segmenter = Segmenter()\n",
        "emb = NewsEmbedding()\n",
        "morph_tagger = NewsMorphTagger(emb)\n",
        "morph_vocab = MorphVocab()"
      ],
      "execution_count": 120,
      "outputs": []
    },
    {
      "cell_type": "code",
      "metadata": {
        "id": "XTwBUIdHYpVw"
      },
      "source": [
        "session = requests.session()"
      ],
      "execution_count": 121,
      "outputs": []
    },
    {
      "cell_type": "markdown",
      "metadata": {
        "id": "QwYCYIGB5svc"
      },
      "source": [
        "Функция, которая находит фильмы:"
      ]
    },
    {
      "cell_type": "code",
      "metadata": {
        "id": "2R1bC_Oid7v_"
      },
      "source": [
        "def find_movies():\n",
        "   url = 'https://www.afisha.ru/msk/schedule_cinema/vybor-afishi/'\n",
        "   req = session.get(url, headers={'User-Agent':ua.random})\n",
        "   page = req.text\n",
        "   soup = BeautifulSoup(page, 'html.parser')\n",
        "   lists = soup.find_all('h3', {'class':'heHLK'})\n",
        "   movies = []\n",
        "   for i in lists:\n",
        "     movie = i.find('a')['href']\n",
        "     movies.append(movie)\n",
        "   return movies"
      ],
      "execution_count": 122,
      "outputs": []
    },
    {
      "cell_type": "markdown",
      "metadata": {
        "id": "Wgd51IFo5xfS"
      },
      "source": [
        "Скачиваем положительные отзывы:"
      ]
    },
    {
      "cell_type": "code",
      "metadata": {
        "id": "gkIoRlOWYuec"
      },
      "source": [
        "def download_positive_reviews(page):\n",
        "   url = f'https://afisha.ru{page}reviews/positive'\n",
        "   for _ in range(5):\n",
        "     response = session.get(url)\n",
        "     time.sleep(random.uniform(1.1, 5.2))\n",
        "\n",
        "   page = response.text\n",
        "   soup = BeautifulSoup(page, 'html.parser')\n",
        "   reviews = soup.find_all('div', class_ ='restrict-text review__text')\n",
        "   posts = [post.text for post in reviews]\n",
        "   return posts"
      ],
      "execution_count": 123,
      "outputs": []
    },
    {
      "cell_type": "markdown",
      "metadata": {
        "id": "Y4Jp_NdL50Q3"
      },
      "source": [
        "Скачиваем отрицательные отзывы:"
      ]
    },
    {
      "cell_type": "code",
      "metadata": {
        "id": "gPoCGlhOuLEY"
      },
      "source": [
        "def download_negative_reviews(page):\n",
        "   url = f'https://afisha.ru{page}reviews/negative'\n",
        "   for _ in range(5):\n",
        "     response = session.get(url)\n",
        "     time.sleep(random.uniform(1.1, 5.2))\n",
        "   page = response.text\n",
        "   soup = BeautifulSoup(page, 'html.parser')\n",
        "   reviews = soup.find_all('div', class_ ='restrict-text review__text')\n",
        "   posts = [post.text for post in reviews]\n",
        "   return posts "
      ],
      "execution_count": 124,
      "outputs": []
    },
    {
      "cell_type": "markdown",
      "metadata": {
        "id": "-d2Yr_d552Rx"
      },
      "source": [
        "Делим выборку на тестовую и тренировочную:"
      ]
    },
    {
      "cell_type": "code",
      "metadata": {
        "id": "VxSLgpVPMXZr"
      },
      "source": [
        "def reviews_split(pos, neg):\n",
        "    pos_train, pos_test = train_test_split(pos)\n",
        "    neg_train, neg_test = train_test_split(neg)\n",
        "    test = {}\n",
        "    for i in pos_test:\n",
        "        test[i] = 1\n",
        "    for i in neg_test:\n",
        "        test[i] = 0\n",
        "    return pos_train, neg_train, test"
      ],
      "execution_count": 159,
      "outputs": []
    },
    {
      "cell_type": "markdown",
      "metadata": {
        "id": "grOgiQWQ55gK"
      },
      "source": [
        "Анализируем отзывы, создаем множества:"
      ]
    },
    {
      "cell_type": "code",
      "metadata": {
        "id": "xVisMyUszu83"
      },
      "source": [
        "def analyze_reviews(pos, neg, freq):\n",
        "    positive = []\n",
        "    negative = []\n",
        "    for i in pos:\n",
        "      positive.extend(text_from_the_post(i))\n",
        "    for i in neg:\n",
        "      negative.extend(text_from_the_post(i))\n",
        "    pos_words = Counter(positive)\n",
        "    neg_words = Counter(negative) \n",
        "    positive = set(positive)\n",
        "    negative = set(negative)\n",
        "    common_words = positive.intersection(negative)\n",
        "    positive -= common_words\n",
        "    negative -= common_words\n",
        "    positive = [i for i in positive if pos_words[i] > freq]\n",
        "    negative = [i for i in negative if neg_words[i] > freq]\n",
        "    return positive, negative"
      ],
      "execution_count": 162,
      "outputs": []
    },
    {
      "cell_type": "markdown",
      "metadata": {
        "id": "L24OwAxh6kc-"
      },
      "source": [
        "Анализируем слова, включая группы:"
      ]
    },
    {
      "cell_type": "code",
      "metadata": {
        "id": "cGKj5q-tA37U"
      },
      "source": [
        "def analyze_reviews_w_groups(pos, neg, freq):\n",
        "    positive = []\n",
        "    negative = []\n",
        "    for i in pos:\n",
        "      positive.extend(text_from_the_post(i))\n",
        "      positive.extend(finding_groups(i))\n",
        "    for i in neg:\n",
        "      negative.extend(text_from_the_post(i))\n",
        "      negative.extend(finding_groups(i))\n",
        "    pos_words = Counter(positive)\n",
        "    neg_words = Counter(negative) \n",
        "    positive = set(positive)\n",
        "    negative = set(negative)\n",
        "    common_words = positive.intersection(negative)\n",
        "    positive -= common_words\n",
        "    negative -= common_words\n",
        "    positive = [i for i in positive if pos_words[i] > freq]\n",
        "    negative = [i for i in negative if neg_words[i] > freq]\n",
        "    return positive, negative"
      ],
      "execution_count": 163,
      "outputs": []
    },
    {
      "cell_type": "markdown",
      "metadata": {
        "id": "2CAw62a46nVU"
      },
      "source": [
        "Функция для поиска групп (не + прилагательное, прилагательное + существительное, наречие + глагол):"
      ]
    },
    {
      "cell_type": "code",
      "metadata": {
        "id": "_JLkNRZpAUHq"
      },
      "source": [
        "def finding_groups(text):\n",
        "  groups_list = []\n",
        "  pos_tags = []\n",
        "  doc = Doc(text)\n",
        "  doc.segment(segmenter)\n",
        "  doc.tag_morph(morph_tagger)\n",
        "  for i in doc.tokens:\n",
        "    i.lemmatize(morph_vocab)\n",
        "  pos_tags = [(i.lemma, i.pos) for i in doc.tokens]\n",
        "  n_gram_list = []\n",
        "  for i in range(len(pos_tags)):\n",
        "    lemma = pos_tags[i][0]\n",
        "    tag = pos_tags[i][1]\n",
        "    if (i + 1) != len(pos_tags):\n",
        "      next_tag = pos_tags[i+1][1]\n",
        "      next_lemma = pos_tags[i+1][0]\n",
        "      if lemma == 'не' and next_tag == 'ADJ':\n",
        "        n_gram_list.append(' '.join([lemma, next_lemma]))\n",
        "      elif tag == 'ADJ' and next_tag == 'NOUN':\n",
        "        n_gram_list.append(' '.join([lemma, next_lemma]))\n",
        "      elif tag == 'ADV' and next_tag == 'VERB':\n",
        "        n_gram_list.append(' '.join([lemma, next_lemma]))\n",
        "  return n_gram_list"
      ],
      "execution_count": 128,
      "outputs": []
    },
    {
      "cell_type": "markdown",
      "metadata": {
        "id": "KtXFX4PC6uwr"
      },
      "source": [
        "Лемматизируем слова из отзывов:"
      ]
    },
    {
      "cell_type": "code",
      "metadata": {
        "id": "AL4PNvp5gs4H"
      },
      "source": [
        "def text_from_the_post(post):\n",
        "  post = post[1:] # первый символ строки - оценка в десятибалльной системе\n",
        "  doc = Doc(post)\n",
        "  doc.segment(segmenter)\n",
        "  doc.tag_morph(morph_tagger)\n",
        "  for i in doc.tokens:\n",
        "    i.lemmatize(morph_vocab)\n",
        "  words = [i.lemma for i in doc.tokens if i.lemma.isalpha()]\n",
        "  return words"
      ],
      "execution_count": 129,
      "outputs": []
    },
    {
      "cell_type": "markdown",
      "metadata": {
        "id": "Nc1vrjix6xmw"
      },
      "source": [
        "Определяем тональность:"
      ]
    },
    {
      "cell_type": "code",
      "metadata": {
        "id": "H22bSOmx4il3"
      },
      "source": [
        "def tonality(post, pos, neg):\n",
        "  text = text_from_the_post(post)\n",
        "  pos_count = 0\n",
        "  neg_count = 0\n",
        "  mark = 0\n",
        "  for i in text:\n",
        "    if i in pos:\n",
        "      pos_count += 1\n",
        "    elif i in neg:\n",
        "      neg_count += 1\n",
        "  if pos_count > neg_count:\n",
        "      mark = 1\n",
        "  elif neg_count > pos_count:\n",
        "      mark = 0\n",
        "  return mark"
      ],
      "execution_count": 130,
      "outputs": []
    },
    {
      "cell_type": "markdown",
      "metadata": {
        "id": "wCPYN8p86zem"
      },
      "source": [
        "Определяем тональность, если есть группы:"
      ]
    },
    {
      "cell_type": "code",
      "metadata": {
        "id": "CYF9ZPorBa-W"
      },
      "source": [
        "def tonality_w_gr(post, pos, neg):\n",
        "  text = text_from_the_post(post)\n",
        "  text.extend(finding_groups(post))\n",
        "  pos_count = 0\n",
        "  neg_count = 0\n",
        "  mark = 0\n",
        "  for i in text:\n",
        "    if i in pos:\n",
        "      pos_count += 1\n",
        "    elif i in neg:\n",
        "      neg_count += 1\n",
        "  if pos_count > neg_count:\n",
        "      mark = 1\n",
        "  elif neg_count > pos_count:\n",
        "      mark = 0\n",
        "  return mark"
      ],
      "execution_count": 153,
      "outputs": []
    },
    {
      "cell_type": "markdown",
      "metadata": {
        "id": "fW4PM2RB62bo"
      },
      "source": [
        "Ищем фильмы:"
      ]
    },
    {
      "cell_type": "code",
      "metadata": {
        "id": "R6wxFSjBvOed"
      },
      "source": [
        "movies = find_movies()"
      ],
      "execution_count": 132,
      "outputs": []
    },
    {
      "cell_type": "markdown",
      "metadata": {
        "id": "1ebO59Zo642B"
      },
      "source": [
        "Готовим множества слов из положительных и отрицательных отзывов:"
      ]
    },
    {
      "cell_type": "code",
      "metadata": {
        "id": "GqAPMpvygmXP",
        "outputId": "67d30bb6-1ed9-459e-c5af-641380518268",
        "colab": {
          "base_uri": "https://localhost:8080/",
          "height": 66,
          "referenced_widgets": [
            "ca2c8d186fbf497984af3eb21ff757d1",
            "e5dbbfd0d2174919a2b6c1f65c58b901",
            "65a205c440ea46019303b0a5f24e9625",
            "c51d01590cb847f5bde70609678fb831",
            "ee16981e71574119bb086147c16aeed9",
            "77b7177851c5455d99aa84a66a6a6faf",
            "bae4c2ac887847c5b6274189fc962579",
            "ba946483502b464b93789f3241db2f16"
          ]
        }
      },
      "source": [
        "p_words = []\n",
        "n_words = []\n",
        "for page in tqdm(movies):\n",
        "  positive_words = download_positive_reviews(page)\n",
        "  negative_words = download_negative_reviews(page)\n",
        "  p_words.extend(positive_words)\n",
        "  n_words.extend(negative_words)"
      ],
      "execution_count": 133,
      "outputs": [
        {
          "output_type": "display_data",
          "data": {
            "application/vnd.jupyter.widget-view+json": {
              "model_id": "ca2c8d186fbf497984af3eb21ff757d1",
              "version_minor": 0,
              "version_major": 2
            },
            "text/plain": [
              "HBox(children=(FloatProgress(value=0.0, max=21.0), HTML(value='')))"
            ]
          },
          "metadata": {
            "tags": []
          }
        },
        {
          "output_type": "stream",
          "text": [
            "\n"
          ],
          "name": "stdout"
        }
      ]
    },
    {
      "cell_type": "markdown",
      "metadata": {
        "id": "2uzPings6-Hy"
      },
      "source": [
        "Делим выборку:"
      ]
    },
    {
      "cell_type": "code",
      "metadata": {
        "id": "BjSuU1N_ztzi"
      },
      "source": [
        "p_train, n_train, test = reviews_split(p_words, n_words)"
      ],
      "execution_count": 160,
      "outputs": []
    },
    {
      "cell_type": "markdown",
      "metadata": {
        "id": "YGsW17VV7S92"
      },
      "source": [
        "Анализируем отзывы (отдельно без и с группами):"
      ]
    },
    {
      "cell_type": "code",
      "metadata": {
        "id": "0UTEViyO3lbW"
      },
      "source": [
        "pos_words, neg_words = analyze_reviews(p_train, n_train, 2)\n",
        "pos_words_w_g, neg_words_w_g = analyze_reviews_w_groups(p_train, n_train, 2)"
      ],
      "execution_count": 180,
      "outputs": []
    },
    {
      "cell_type": "markdown",
      "metadata": {
        "id": "nIBo_NUD7W5G"
      },
      "source": [
        "Считаем долю верных ответов:"
      ]
    },
    {
      "cell_type": "code",
      "metadata": {
        "id": "126kAdI44XUZ"
      },
      "source": [
        "accuracy = 0\n",
        "accuracy_w_gr = 0\n",
        "for k, v in test.items():\n",
        "  mark = tonality(k, pos_words, neg_words)\n",
        "  mark_w_gr = tonality_w_gr(k, pos_words_w_g, neg_words_w_g)\n",
        "  if mark == v:\n",
        "    accuracy += 1\n",
        "  if mark_w_gr == v:\n",
        "    accuracy_w_gr += 1\n",
        "accuracy = accuracy/len(test)\n",
        "accuracy_w_gr = accuracy_w_gr/len(test)"
      ],
      "execution_count": 181,
      "outputs": []
    },
    {
      "cell_type": "markdown",
      "metadata": {
        "id": "YRAnDj4R7mZw"
      },
      "source": [
        "Сравнием долю верных ответов без и с группами в словаре:"
      ]
    },
    {
      "cell_type": "code",
      "metadata": {
        "id": "-FbqspoI7Mpv",
        "outputId": "7bd3911f-982e-4ad0-fd58-64073250f4f8",
        "colab": {
          "base_uri": "https://localhost:8080/",
          "height": 34
        }
      },
      "source": [
        "accuracy"
      ],
      "execution_count": 182,
      "outputs": [
        {
          "output_type": "execute_result",
          "data": {
            "text/plain": [
              "0.7272727272727273"
            ]
          },
          "metadata": {
            "tags": []
          },
          "execution_count": 182
        }
      ]
    },
    {
      "cell_type": "code",
      "metadata": {
        "id": "wqoAw-YF7PUP",
        "outputId": "f3ffc6f3-9e4f-4fd0-b9c5-0eeb118adad4",
        "colab": {
          "base_uri": "https://localhost:8080/",
          "height": 34
        }
      },
      "source": [
        "accuracy_w_gr"
      ],
      "execution_count": 183,
      "outputs": [
        {
          "output_type": "execute_result",
          "data": {
            "text/plain": [
              "0.7545454545454545"
            ]
          },
          "metadata": {
            "tags": []
          },
          "execution_count": 183
        }
      ]
    },
    {
      "cell_type": "markdown",
      "metadata": {
        "id": "1hyTlrc_Pdyy"
      },
      "source": [
        "Как мы видим, качество повышается, хоть и ненамного."
      ]
    }
  ]
}